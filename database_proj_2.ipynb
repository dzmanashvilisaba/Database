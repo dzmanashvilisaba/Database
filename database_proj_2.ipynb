{
  "nbformat": 4,
  "nbformat_minor": 0,
  "metadata": {
    "colab": {
      "provenance": []
    },
    "kernelspec": {
      "name": "python3",
      "display_name": "Python 3"
    },
    "language_info": {
      "name": "python"
    }
  },
  "cells": [
    {
      "cell_type": "markdown",
      "source": [
       
      ],
      "metadata": {
        "id": "TLf3PCpOvhus"
      }
    },
    {
      "cell_type": "markdown",
      "source": [
        "## **Database Creation**\n",
        "\n",
        "We want to implement an OpenCourseWare service using SQLite3. Continuing from the first and second mini-projects, we will add the functionality for user management.\n",
        "\n",
        "The given 'create_database_proj3.sql' file contains the definition of the schema and a sample set of the tuples. You can download it from [here](https://drive.google.com/file/d/1_hp8vix4Y15VXSmH3ZMp9JuSV66T7FG8/view?usp=share_link).\n",
        "\n",
        "The database contains the following tables:\n",
        "* *kmooc_user*\n",
        "* *kmooc_developer*\n",
        "* *kmooc_tech*\n",
        "* *kmooc_developer_techs*\n",
        "\n",
        "Please see the file for detailed schema. Note that you need to use 'create_database_proj**3**.sql'.\n",
        "\n",
        "We will implement several core modules of the service."
      ],
      "metadata": {
        "id": "o_zJTcIMOWh5"
      }
    },
    {
      "cell_type": "code",
      "source": [
        "from google.colab import drive\n",
        "drive.mount('/content/drive')"
      ],
      "metadata": {
        "colab": {
          "base_uri": "https://localhost:8080/"
        },
        "id": "OpcaGkkQO-EA",
        "outputId": "d1725b39-d2d4-4654-f160-a6fe2b718c33"
      },
      "execution_count": null,
      "outputs": [
        {
          "output_type": "stream",
          "name": "stdout",
          "text": [
            "Mounted at /content/drive\n"
          ]
        }
      ]
    },
    {
      "cell_type": "code",
      "source": [
        "import sqlite3\n",
        "\n",
        "conn = sqlite3.connect('kmooc.sqlite3')\n",
        "cur = conn.cursor()\n",
        "\n",
        "# Enter your solution here\n",
        "# Execute the SQL statements in 'create_database_proj3.sql'.\n",
        "# If you placed this file in the 'MyDrive' folder, its path is '/content/drive/MyDrive/create_database_proj3.sql'.\n",
        "path = \"/content/drive/MyDrive/create_database_proj3.sql\"\n",
        "script = open(path, 'r')\n",
        "commands = script.read()\n",
        "script.close()\n",
        "\n",
        "# Create the database\n",
        "cur.executescript(commands)\n",
        "conn.commit()\n",
        "conn.close()"
      ],
      "metadata": {
        "id": "tMBPg0yaAhPm"
      },
      "execution_count": null,
      "outputs": []
    },
    {
      "cell_type": "markdown",
      "source": [
        "## **Module 1**\n",
        "\n",
        "Create a query that will join the data from the `\"kmooc_user\"` table with the `\"kmooc_developer\"` table (INNER JOIN).\n",
        "\n",
        "The output table should contain the following columns:\n",
        "* *first_name* column from the `\"kmooc_user\"` table\n",
        "* *last_name* column from the `\"kmooc_user\"` table\n",
        "* *level* column from the `\"kmooc_developer\"` table\n",
        "\n",
        "Sort the output table in the ascending order of the *first_name* column. (The first name and the last name are not concatenated throughout this notebook.)\n",
        "\n",
        "**Format**:\n",
        ">```\n",
        "('Daniel', 'Harris', 'junior')\n",
        "...\n",
        "```\n",
        "\n",
        "Print the result using the code cell below."
      ],
      "metadata": {
        "id": "UboZNCSbIJn9"
      }
    },
    {
      "cell_type": "code",
      "source": [
        "import sqlite3\n",
        "\n",
        "conn = sqlite3.connect('kmooc.sqlite3')\n",
        "cur = conn.cursor()\n",
        "\n",
        "\n",
        "# Enter your solution here\n",
        "ans = cur.execute(\n",
        "    \"\"\"\n",
        "    SELECT first_name, last_name, level\n",
        "            FROM kmooc_user\n",
        "            INNER JOIN kmooc_developer\n",
        "            ON id = user_id\n",
        "            ORDER BY first_name ASC\n",
        "    \"\"\")\n",
        "for x in ans.fetchall():\n",
        "    print(x)\n",
        "\n",
        "\n",
        "conn.commit()\n",
        "conn.close()"
      ],
      "metadata": {
        "id": "WUuWRZwxJBEl",
        "colab": {
          "base_uri": "https://localhost:8080/"
        },
        "outputId": "4598c1b5-3f0b-478f-89c8-f9ec94931eba"
      },
      "execution_count": null,
      "outputs": [
        {
          "output_type": "stream",
          "name": "stdout",
          "text": [
            "('Carol', 'Horn', 'mid')\n",
            "('Daniel', 'Harris', 'junior')\n",
            "('Daniel', 'Thompson', 'mid')\n",
            "('James', 'Simons', 'senior')\n",
            "('John', 'Taylor', 'senior')\n",
            "('Michaela', 'Garrison', 'senior')\n",
            "('Paula', 'Burke', 'junior')\n",
            "('Sharon', 'Johnson', 'junior')\n",
            "('Shelly', 'Hudson', 'senior')\n",
            "('William', 'Lopez', 'mid')\n"
          ]
        }
      ]
    },
    {
      "cell_type": "markdown",
      "source": [
        "## **Module 2**\n",
        "\n",
        "Create a query that will join the tables `\"kmooc_user\"`, `\"kmooc_developer\"`, `\"kmooc_tech\"`, and `\"kmooc_developer_techs\"` (all INNER JOIN). Note that a developer with multiple techniques will appear multiple times.\n",
        "\n",
        "The output table should contain the following columns:\n",
        "* *first_name* column from the `\"kmooc_user\"` table\n",
        "* *last_name* column from the `\"kmooc_user\"` table\n",
        "* *level* column from the `\"kmooc_developer\"` table\n",
        "* *name* column from the `\"kmooc_tech\"` table, aliased as `\"tech_name\"`\n",
        "\n",
        "Sort the output table in the ascending order of the *first_name* column. Limit the result to the first 10 records.\n",
        "\n",
        "**Format**:\n",
        ">```\n",
        "('Daniel', 'Harris', 'junior', 'python')\n",
        "...\n",
        "```\n",
        "\n",
        "Print the result using the code cell below."
      ],
      "metadata": {
        "id": "Fc-TocDrJFPU"
      }
    },
    {
      "cell_type": "code",
      "source": [
        "import sqlite3\n",
        "\n",
        "conn = sqlite3.connect('kmooc.sqlite3')\n",
        "cur = conn.cursor()\n",
        "\n",
        "# Enter your solution here\n",
        "ans = cur.execute(\n",
        "    \"\"\"\n",
        "    SELECT first_name, last_name, level, name as 'tech_name'\n",
        "            FROM kmooc_user as u\n",
        "            INNER JOIN kmooc_developer as d\n",
        "            ON u.id = d.user_id\n",
        "            INNER JOIN kmooc_developer_techs as k\n",
        "            ON d.user_id = k.developer_id\n",
        "            INNER JOIN kmooc_tech as t\n",
        "            ON k.tech_id = t.id\n",
        "            ORDER BY first_name ASC\n",
        "            LIMIT 10\n",
        "    \"\"\")\n",
        "for x in ans.fetchall():\n",
        "    print(x)\n",
        "\n",
        "conn.commit()\n",
        "conn.close()"
      ],
      "metadata": {
        "id": "lqGtl0QgJtAk",
        "colab": {
          "base_uri": "https://localhost:8080/"
        },
        "outputId": "231cb2e8-b33d-445d-f779-ff582e86d080"
      },
      "execution_count": null,
      "outputs": [
        {
          "output_type": "stream",
          "name": "stdout",
          "text": [
            "('Carol', 'Horn', 'mid', 'flutter')\n",
            "('Carol', 'Horn', 'mid', 'dart')\n",
            "('Carol', 'Horn', 'mid', 'git')\n",
            "('Carol', 'Horn', 'mid', 'linux')\n",
            "('Daniel', 'Harris', 'junior', 'python')\n",
            "('Daniel', 'Harris', 'junior', 'html')\n",
            "('Daniel', 'Harris', 'junior', 'css')\n",
            "('Daniel', 'Thompson', 'mid', 'python')\n",
            "('Daniel', 'Thompson', 'mid', 'html')\n",
            "('Daniel', 'Thompson', 'mid', 'css')\n"
          ]
        }
      ]
    },
    {
      "cell_type": "markdown",
      "source": [
        "## **Module 3**\n",
        "\n",
        "We want to extract the number of known techniques for each developer. Create a query that will join the tables `\"kmooc_user\"`, `\"kmooc_developer\"`, `\"kmooc_tech\"`, and `\"kmooc_developer_techs\"` (all INNER JOIN).\n",
        "\n",
        "The output table should contain the following columns:\n",
        "* *first_name* column from the `\"kmooc_user\"` table\n",
        "* *last_name* column from the `\"kmooc_user\"` table\n",
        "* *level* column from the `\"kmooc_developer\"` table\n",
        "* *num_techs* column - number of techniques for each developer\n",
        "\n",
        "Sort the output table in the descending order of the *num_techs* column and then in the ascending order of the *first_name* column.\n",
        "\n",
        "**Format**:\n",
        ">```\n",
        "('William', 'Lopez', 'mid', 6)\n",
        "...\n",
        "```\n",
        "\n",
        "Print the result using the code cell below."
      ],
      "metadata": {
        "id": "x8KIoiwjJM_f"
      }
    },
    {
      "cell_type": "code",
      "source": [
        "import sqlite3\n",
        "\n",
        "conn = sqlite3.connect('kmooc.sqlite3')\n",
        "cur = conn.cursor()\n",
        "\n",
        "# Enter your solution here\n",
        "ans = cur.execute(\n",
        "    \"\"\"\n",
        "    SELECT first_name, last_name, level, count() as 'num_techs'\n",
        "            FROM kmooc_user as u\n",
        "            INNER JOIN kmooc_developer as d\n",
        "            ON u.id = d.user_id\n",
        "            INNER JOIN kmooc_developer_techs as k\n",
        "            ON d.user_id = k.developer_id\n",
        "            INNER JOIN kmooc_tech as t\n",
        "            ON k.tech_id = t.id\n",
        "            GROUP BY first_name\n",
        "            ORDER BY\n",
        "                num_techs DESC,\n",
        "                first_name ASC;\n",
        "    \"\"\")\n",
        "for x in ans.fetchall():\n",
        "    print(x)\n",
        "\n",
        "\n",
        "conn.commit()\n",
        "conn.close()"
      ],
      "metadata": {
        "id": "eaBOOB0hKOgU",
        "colab": {
          "base_uri": "https://localhost:8080/"
        },
        "outputId": "b77fd818-6451-4230-87ed-277a1590f6fc"
      },
      "execution_count": null,
      "outputs": [
        {
          "output_type": "stream",
          "name": "stdout",
          "text": [
            "('Daniel', 'Thompson', 'mid', 8)\n",
            "('William', 'Lopez', 'mid', 6)\n",
            "('Paula', 'Burke', 'junior', 5)\n",
            "('Carol', 'Horn', 'mid', 4)\n",
            "('James', 'Simons', 'senior', 4)\n",
            "('Sharon', 'Johnson', 'junior', 4)\n",
            "('John', 'Taylor', 'senior', 3)\n",
            "('Michaela', 'Garrison', 'senior', 3)\n",
            "('Shelly', 'Hudson', 'senior', 3)\n"
          ]
        }
      ]
    },
    {
      "cell_type": "markdown",
      "source": [
        "## **Module 4**\n",
        "\n",
        "We want to extract the number of developers for each level of experience: *junior*, *mid*, *senior*.\n",
        "\n",
        "The output table should contain the following columns:\n",
        "* *level* column from the `\"kmooc_developer\"` table\n",
        "* *num_developers* column - number of developers for a given level of experience\n",
        "\n",
        "Sort the output table in the descending order of the *num_developers* column.\n",
        "\n",
        "**Format**:\n",
        ">```\n",
        "('junior', 8)\n",
        "...\n",
        "```\n",
        "\n",
        "Print the result using the code cell below."
      ],
      "metadata": {
        "id": "0iVBCh9oJPfH"
      }
    },
    {
      "cell_type": "code",
      "source": [
        "import sqlite3\n",
        "\n",
        "conn = sqlite3.connect('kmooc.sqlite3')\n",
        "cur = conn.cursor()\n",
        "\n",
        "# Enter your solution here\n",
        "ans = cur.execute(\n",
        "    \"\"\"\n",
        "    SELECT level, count(user_id) as 'num_developers'\n",
        "        FROM kmooc_developer\n",
        "        GROUP BY level\n",
        "        ORDER BY num_developers DESC\n",
        "    \"\"\")\n",
        "for x in ans.fetchall():\n",
        "    print(x)\n",
        "\n",
        "\n",
        "conn.commit()\n",
        "conn.close()"
      ],
      "metadata": {
        "id": "0LqfsJcAKol2",
        "colab": {
          "base_uri": "https://localhost:8080/"
        },
        "outputId": "2b93c31d-3ad7-43e4-c1df-ca8473aa81d2"
      },
      "execution_count": null,
      "outputs": [
        {
          "output_type": "stream",
          "name": "stdout",
          "text": [
            "('senior', 4)\n",
            "('junior', 3)\n",
            "('mid', 3)\n"
          ]
        }
      ]
    },
    {
      "cell_type": "markdown",
      "source": [
        "## **Module 5**\n",
        "\n",
        "We want to extract the number of developers for each technique. Create a query that will join the tables `\"kmooc_developer_techs\"` and  `\"kmooc_tech\"` (INNER JOIN). Note that a developer having multiple techniques is counted multiple times.\n",
        "\n",
        "The output table should contain the following columns:\n",
        "* *name* column from the `\"kmooc_tech\"` table\n",
        "* *num_developers* column - number of developers for a given technique\n",
        "\n",
        "Sort the output table in the descending order of the *num_developers* column.\n",
        "\n",
        "**Format**:\n",
        ">```\n",
        "('python', 8)\n",
        "...\n",
        "```\n",
        "\n",
        "Print the result using the code cell below."
      ],
      "metadata": {
        "id": "dx0Qk95cJUIF"
      }
    },
    {
      "cell_type": "code",
      "source": [
        "import sqlite3\n",
        "\n",
        "conn = sqlite3.connect('kmooc.sqlite3')\n",
        "cur = conn.cursor()\n",
        "\n",
        "# Enter your solution here\n",
        "ans = cur.execute(\n",
        "    \"\"\"\n",
        "    SELECT name, count() as 'num_developers'\n",
        "            FROM kmooc_user as u\n",
        "            INNER JOIN kmooc_developer as d\n",
        "            ON u.id = d.user_id\n",
        "            INNER JOIN kmooc_developer_techs as k\n",
        "            ON d.user_id = k.developer_id\n",
        "            INNER JOIN kmooc_tech as t\n",
        "            ON k.tech_id = t.id\n",
        "            GROUP BY name\n",
        "            ORDER BY num_developers DESC\n",
        "    \"\"\")\n",
        "for x in ans.fetchall():\n",
        "    print(x)\n",
        "\n",
        "\n",
        "conn.commit()\n",
        "conn.close()"
      ],
      "metadata": {
        "id": "swRw5HblLJk-",
        "colab": {
          "base_uri": "https://localhost:8080/"
        },
        "outputId": "7895c68a-3313-4e4d-8c4a-8163cb803359"
      },
      "execution_count": null,
      "outputs": [
        {
          "output_type": "stream",
          "name": "stdout",
          "text": [
            "('git', 5)\n",
            "('html', 5)\n",
            "('css', 4)\n",
            "('python', 4)\n",
            "('django', 3)\n",
            "('javascript', 3)\n",
            "('dart', 2)\n",
            "('flutter', 2)\n",
            "('java', 2)\n",
            "('linux', 2)\n",
            "('sql', 2)\n",
            "('c#', 1)\n",
            "('c++', 1)\n",
            "('kotlin', 1)\n",
            "('swift', 1)\n",
            "('testing', 1)\n",
            "('unity', 1)\n"
          ]
        }
      ]
    },
    {
      "cell_type": "markdown",
      "source": [
        "## **Module 6**\n",
        "\n",
        "We want to find the users who have **not** registered as a developer. Create a query that lists such non-developer users in the database.\n",
        "\n",
        "The output table should contain the following columns:\n",
        "* *first_name* column from the `\"kmooc_user\"` table\n",
        "* *last_name* column from the `\"kmooc_user\"` table\n",
        "\n",
        "Sort the output table in the ascending order of the *first_name* column.\n",
        "\n",
        "**Format**:\n",
        ">```\n",
        "('Lisa', 'Johnson')\n",
        "...\n",
        "```\n",
        "\n",
        "Print the result using the code cell below."
      ],
      "metadata": {
        "id": "cSjEK7ozJVXZ"
      }
    },
    {
      "cell_type": "code",
      "source": [
        "import sqlite3\n",
        "\n",
        "conn = sqlite3.connect('kmooc.sqlite3')\n",
        "cur = conn.cursor()\n",
        "\n",
        "# Enter your solution here\n",
        "ans = cur.execute(\n",
        "    \"\"\"\n",
        "    SELECT distinct(first_name), last_name\n",
        "        FROM kmooc_user, kmooc_developer\n",
        "        WHERE id NOT IN (SELECT user_id\n",
        "                            FROM kmooc_developer)\n",
        "        ORDER BY first_name ASC\n",
        "    \"\"\")\n",
        "for x in ans.fetchall():\n",
        "    print(x)\n",
        "\n",
        "conn.commit()\n",
        "conn.close()"
      ],
      "metadata": {
        "id": "3NeSdDt2MijY",
        "colab": {
          "base_uri": "https://localhost:8080/"
        },
        "outputId": "51d70bc3-1534-4460-ec95-23c8abbbe2a0"
      },
      "execution_count": null,
      "outputs": [
        {
          "output_type": "stream",
          "name": "stdout",
          "text": [
            "('Joshua', 'Brown')\n",
            "('Lisa', 'Johnson')\n",
            "('Mason', 'Robinson')\n"
          ]
        }
      ]
    }
  ]
}
